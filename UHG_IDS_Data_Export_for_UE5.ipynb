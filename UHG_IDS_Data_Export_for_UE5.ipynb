{
  "cells": [
    {
      "cell_type": "markdown",
      "metadata": {},
      "source": [
        "# UHG IDS Data Export for Unreal Engine 5\n",
        "This notebook exports network intrusion detection data and model results for 3D visualization in Unreal Engine 5.\n"
      ]
    },
    {
      "cell_type": "code",
      "execution_count": null,
      "metadata": {},
      "outputs": [],
      "source": [
        "# Install required packages\n",
        "!pip -q install --upgrade pip\n",
        "import torch\n",
        "pt = torch.__version__.split('+')[0]\n",
        "cuda = torch.version.cuda\n",
        "if torch.cuda.is_available() and cuda:\n",
        "  idx = f\"https://data.pyg.org/whl/torch-{pt}+cu{cuda.replace('.','')}.html\"\n",
        "else:\n",
        "  idx = f\"https://data.pyg.org/whl/torch-{pt}+cpu.html\"\n",
        "\n",
        "!pip -q install torch_scatter torch_sparse torch_cluster torch_spline_conv -f {idx}\n",
        "!pip -q install torch_geometric scikit-learn scipy pandas tqdm\n"
      ]
    },
    {
      "cell_type": "code",
      "execution_count": null,
      "metadata": {},
      "outputs": [],
      "source": [
        "# Import all necessary libraries\n",
        "import torch\n",
        "import torch.nn as nn\n",
        "import torch.nn.functional as F\n",
        "import pandas as pd\n",
        "import numpy as np\n",
        "from sklearn.preprocessing import StandardScaler\n",
        "from sklearn.neighbors import kneighbors_graph\n",
        "from scipy.sparse import coo_matrix\n",
        "from torch_geometric.data import Data\n",
        "from torch_geometric.nn.conv import MessagePassing\n",
        "from torch_scatter import scatter_add\n",
        "import json\n",
        "import os\n",
        "import time\n",
        "from typing import Tuple, Dict, Any\n",
        "\n",
        "# Device configuration\n",
        "device = torch.device('cuda' if torch.cuda.is_available() else 'cpu')\n",
        "print(f\"Using {'GPU' if torch.cuda.is_available() else 'CPU'}\")\n",
        "\n",
        "# File paths (update these to match your setup)\n",
        "FILE_PATH = '/content/drive/MyDrive/CIC_data.csv'\n",
        "MODEL_SAVE_PATH = '/content/drive/MyDrive/uhg_ids_model.pth'\n",
        "RESULTS_PATH = '/content/drive/MyDrive/uhg_ids_results'\n",
        "EXPORT_PATH = '/content/drive/MyDrive/UE5_Export'\n",
        "os.makedirs(EXPORT_PATH, exist_ok=True)\n"
      ]
    }
  ],
  "metadata": {
    "language_info": {
      "name": "python"
    }
  },
  "nbformat": 4,
  "nbformat_minor": 2
}
